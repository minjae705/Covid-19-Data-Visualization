{
 "cells": [
  {
   "cell_type": "code",
   "execution_count": 1,
   "metadata": {},
   "outputs": [],
   "source": [
    "from pyproj import Proj, transform\n",
    "import pandas as pd\n",
    "import numpy as np\n",
    "import seaborn as sns\n",
    "import matplotlib.pyplot as plt\n",
    "import folium\n",
    "import json\n",
    "import datetime\n",
    "%matplotlib inline"
   ]
  },
  {
   "cell_type": "code",
   "execution_count": 2,
   "metadata": {},
   "outputs": [],
   "source": [
    "plt.rc(\"font\", family=\"Malgun Gothic\")\n",
    "plt.rc(\"axes\", unicode_minus=False)\n",
    "sns.set(font=\"Malgun Gothic\")\n",
    "%config InlineBackend.figure_format='retina'"
   ]
  },
  {
   "cell_type": "code",
   "execution_count": 3,
   "metadata": {},
   "outputs": [],
   "source": [
    "svg = open(\"Seoul_districts.svg\", 'r').read()"
   ]
  },
  {
   "cell_type": "code",
   "execution_count": 4,
   "metadata": {
    "scrolled": true
   },
   "outputs": [],
   "source": [
    "df1_raw=pd.read_excel(\"코로나19이송현황2020.xlsx\")"
   ]
  },
  {
   "cell_type": "code",
   "execution_count": 5,
   "metadata": {
    "scrolled": true
   },
   "outputs": [
    {
     "data": {
      "text/plain": [
       "(27667, 27)"
      ]
     },
     "execution_count": 5,
     "metadata": {},
     "output_type": "execute_result"
    }
   ],
   "source": [
    "df1_raw.shape"
   ]
  },
  {
   "cell_type": "code",
   "execution_count": null,
   "metadata": {
    "scrolled": true
   },
   "outputs": [],
   "source": [
    "df1_raw.head()"
   ]
  },
  {
   "cell_type": "code",
   "execution_count": 7,
   "metadata": {
    "scrolled": true
   },
   "outputs": [
    {
     "name": "stdout",
     "output_type": "stream",
     "text": [
      "<class 'pandas.core.frame.DataFrame'>\n",
      "RangeIndex: 27667 entries, 0 to 27666\n",
      "Data columns (total 27 columns):\n",
      " #   Column       Non-Null Count  Dtype         \n",
      "---  ------       --------------  -----         \n",
      " 0   접수일          27667 non-null  datetime64[ns]\n",
      " 1   접수시간         12234 non-null  object        \n",
      " 2   시도           27667 non-null  object        \n",
      " 3   소방서          27667 non-null  object        \n",
      " 4   코로나이송_출동소방서  27667 non-null  object        \n",
      " 5   출동안전센터       27665 non-null  object        \n",
      " 6   환자상태         27665 non-null  object        \n",
      " 7   이송여부         26722 non-null  object        \n",
      " 8   이송병원         25553 non-null  object        \n",
      " 9   좌표계(X)       23209 non-null  object        \n",
      " 10  좌표계(Y)       23207 non-null  float64       \n",
      " 11  조치사항         27667 non-null  object        \n",
      " 12  확진검체         6403 non-null   object        \n",
      " 13  해외입국확진자국적    2730 non-null   object        \n",
      " 14  음압/전담 여부     26727 non-null  object        \n",
      " 15  재난번호         25815 non-null  object        \n",
      " 16  구급보고서번호      27609 non-null  object        \n",
      " 17  2020_출동소방서   25817 non-null  object        \n",
      " 18  출동안전센터_지역대   25817 non-null  object        \n",
      " 19  신고년월일        25817 non-null  datetime64[ns]\n",
      " 20  신고시각         25817 non-null  object        \n",
      " 21  출동년월일        25816 non-null  object        \n",
      " 22  출동시각         25816 non-null  object        \n",
      " 23  병원도착년월일      23855 non-null  object        \n",
      " 24  병원도착시각       23855 non-null  object        \n",
      " 25  귀소년월일        25815 non-null  object        \n",
      " 26  귀소시각         25815 non-null  object        \n",
      "dtypes: datetime64[ns](2), float64(1), object(24)\n",
      "memory usage: 5.7+ MB\n"
     ]
    }
   ],
   "source": [
    "df1_raw.info()"
   ]
  },
  {
   "cell_type": "code",
   "execution_count": 8,
   "metadata": {
    "scrolled": true
   },
   "outputs": [
    {
     "name": "stderr",
     "output_type": "stream",
     "text": [
      "C:\\Users\\minja\\anaconda3\\lib\\site-packages\\pyproj\\crs\\crs.py:53: FutureWarning: '+init=<authority>:<code>' syntax is deprecated. '<authority>:<code>' is the preferred initialization method. When making the change, be mindful of axis order changes: https://pyproj4.github.io/pyproj/stable/gotchas.html#axis-order-changes-in-proj-6\n",
      "  return _prepare_from_string(\" \".join(pjargs))\n",
      "C:\\Users\\minja\\anaconda3\\lib\\site-packages\\pyproj\\crs\\crs.py:294: FutureWarning: '+init=<authority>:<code>' syntax is deprecated. '<authority>:<code>' is the preferred initialization method. When making the change, be mindful of axis order changes: https://pyproj4.github.io/pyproj/stable/gotchas.html#axis-order-changes-in-proj-6\n",
      "  projstring = _prepare_from_string(\" \".join((projstring, projkwargs)))\n",
      "C:\\Users\\minja\\anaconda3\\lib\\site-packages\\pyproj\\crs\\crs.py:53: FutureWarning: '+init=<authority>:<code>' syntax is deprecated. '<authority>:<code>' is the preferred initialization method. When making the change, be mindful of axis order changes: https://pyproj4.github.io/pyproj/stable/gotchas.html#axis-order-changes-in-proj-6\n",
      "  return _prepare_from_string(\" \".join(pjargs))\n",
      "C:\\Users\\minja\\anaconda3\\lib\\site-packages\\pyproj\\crs\\crs.py:294: FutureWarning: '+init=<authority>:<code>' syntax is deprecated. '<authority>:<code>' is the preferred initialization method. When making the change, be mindful of axis order changes: https://pyproj4.github.io/pyproj/stable/gotchas.html#axis-order-changes-in-proj-6\n",
      "  projstring = _prepare_from_string(\" \".join((projstring, projkwargs)))\n"
     ]
    }
   ],
   "source": [
    "proj_ori = Proj(init='epsg:5174')\n",
    "proj_cha = Proj(init='epsg:4326')"
   ]
  },
  {
   "cell_type": "code",
   "execution_count": 9,
   "metadata": {},
   "outputs": [
    {
     "name": "stderr",
     "output_type": "stream",
     "text": [
      "<ipython-input-9-2496a86fb902>:2: DeprecationWarning: This function is deprecated. See: https://pyproj4.github.io/pyproj/stable/gotchas.html#upgrading-to-pyproj-2-from-pyproj-1\n",
      "  y2, x2 = transform(proj_ori, proj_cha, x1, y1)\n"
     ]
    },
    {
     "name": "stdout",
     "output_type": "stream",
     "text": [
      "37.521677560914405 126.9047046959459\n"
     ]
    }
   ],
   "source": [
    "x1, y1 = 191506.1489, 446609.2114\n",
    "y2, x2 = transform(proj_ori, proj_cha, x1, y1)\n",
    "print(x2, y2)"
   ]
  },
  {
   "cell_type": "code",
   "execution_count": 10,
   "metadata": {
    "scrolled": true
   },
   "outputs": [
    {
     "data": {
      "text/plain": [
       "array(['강북삼성병원', '서울의료원', '서울대병원', '삼성서울병원', '보라매병원', '건국대병원', '강남성심병원',\n",
       "       nan, '한일병원', '국립중앙의료원', '중앙대병원', '한양대병원', '삼육서울병원', '고대구로병원',\n",
       "       '이대목동병원', '가톨릭대학교 여의도성모병원', '서울아산병원', '서대문구보건소', '서울시인재개발원',\n",
       "       '서울백병원', '신촌세브란스병원', '경희의료원', '가톨릭대학교 서울성모병원', '강남구보건소', '신길성애병원',\n",
       "       '녹색병원', '이대서울병원', '순천향대학교 서울병원', '에이치플러스양지병원', '고대안암병원',\n",
       "       '가톨릭대학교 은평성모병원', '송파구보건소', '상계백병원', '강남세브란스병원', '강동경희대병원',\n",
       "       '중앙보훈병원', '용산구보건소', '을지병원', '가톨릭대학교 의정부성모병원', '강동성심병원',\n",
       "       '양천 목동 감염관찰실', '분당서울대병원', '서울소방학교', '구로성심병원', '한양대구리병원', '동대문구보건소',\n",
       "       '서남병원', '구로구보건소', '종로구보건소', '분당차병원', '관악구보건소', '서북병원', '마포구보건소',\n",
       "       '가톨릭대학교 부천성모병원', '청구성심병원', '부천세종병원', '동대문임시감염관찰실', '은평구보건소',\n",
       "       '동부병원', '중구보건소', '서초구보건소', '중랑구보건소', '서울적십자병원', '중랑구생활치료센터',\n",
       "       '양천구보건소', '중부임시관찰실', '광명성애병원', '성동구보건소', '동작구보건소', '서초임시감염관찰실',\n",
       "       '동신병원', '은평연세병원', '명지병원', '경찰병원', '국립정신건강센터', '홍익병원', '원자력병원',\n",
       "       '서대문소방서', '국립암센터', '부민병원', '순천향대학교 부천병원', '태릉생활치료센터',\n",
       "       '서울시 브릿지지원센터', '정재면내과', '인천국제공항 중앙검역의료지원센터', '성북구보건소', '강북구보건소',\n",
       "       '인천의료원', '국민건강보험공단 일산병원', '인하대병원', '강동구보건소', '희명병원', '경정훈련원 격리실',\n",
       "       '지혜병원', '영등포구보건소', '빛고을전남대병원', '메디힐병원', '파주생활치료센터',\n",
       "       '강북수유영어마을 생활치료센터', '가천길병원', '노원구보건소', '연세슬기병원', '성남시의료원',\n",
       "       '고용노동연수원 생활치료센터', '일산동국대병원', '해상병원', '자가격리센터', '서울성심병원', '강서구보건소',\n",
       "       '서초구생활치료센터', '서울시립어린이병원', '자택', '해당없음', '에어포트호텔', '연계이송',\n",
       "       '안성우리은행연수원', '은평보건소', '임시격리시설-인천공항', '보훈병원', '현장대응단 인계', '금천보건소',\n",
       "       '광진구보건소', '충남대병원', '호텔스카이파크 센트럴명동', '경기도의료원 수원병원', '서울다시서기 지원센터',\n",
       "       '도봉구보건소', '공항-검역소', '한림대평촌병원', '은평구 보건소', '세브란스', '송파소방서', '보호자인계',\n",
       "       '인천공항', '인천에어포트호텔', '리라고등학교', '대한병원', '면목인계', '연세이문소아청소년과의원',\n",
       "       '현대병원', '해당 없음', '호텔스카이파크 동대문1호점', '동인외과', '남산생활치료센터', '더리센츠동대문호텔',\n",
       "       '북부병원', '보건환경연구원', '경기도의료원 이천병원', '노원6-6에 인계', '봄소아청소년과의원',\n",
       "       '경기도의료원 파주병원', '우리들외과', '중곡대인계', '일산백병원', '경기도의료원 포천병원', '경찰인계',\n",
       "       '현장처치', '김포우리병원', '귀가', '리센츠호텔', '경기도의료원 안성병원', '천안생활치료센터',\n",
       "       '하남보건소', '88병원', '양재숲정형외과', '인천 그랜드하얏트 호텔', '전담구급대', '광명수내과',\n",
       "       '구리한양대병원', '뉴고려병원', '경기광주소망생활치료센터', '광주생활치료센터', '바로선병원', '세란병원',\n",
       "       '세종로구급대', '강북성심병원', '역무원인계', '안산생활치료센터', '남양주보건소', '경기수도권2생활치료센터',\n",
       "       '고대안산병원', '서울시 생활치료센터', '자가이송', '여의도성모병원', '남양주현대병원', '노원참튼튼병원',\n",
       "       '뉴스타트병원', '의정부백병원', '올림픽병원', '24시열린의원', '고은내과의원', '용산소방서 임시격리실',\n",
       "       '한전생활치료센터', '사랑의병원', '도봉61호', '출동 경찰인계(평창동 파출소)', '서울현대병원',\n",
       "       '호텔스카이파크 명동2호점', '자체이동', '연신내열린의원', '분당 국제교육원 생활치료센터', '분당제생병원',\n",
       "       '굳쎈정형외과', '판교생활치료센터', '태릉마이크로병원', '베스티안', '남양주 한양병원', '신촌연세병원',\n",
       "       '강남고려병원', '코이카생활치료센터', '세곡센터 관찰실', '성남생활치료센터', '메디아이', '한솔병원',\n",
       "       '국군수도병원', '국제성모병원', '충북대병원', '대림성모병원', '사망', '용인삼성생활치료센터',\n",
       "       '한강성심병원', '도봉61', '용인한화생명생활치료센터', '소테츠호텔', '별내마리산부인과', '정원요양원',\n",
       "       '상계2소대', '도봉32호', '용인SK생활치료센터', '고대격리실', '도봉52', '순천향대서울병원',\n",
       "       '혜민병원', '연계이송(구리한양대)', '햇빛병원', '연세정형외과', '은평시립병원', '보호자 및 경찰인계',\n",
       "       '노원81호', '보호자 인계', '광명GM산부인과', '국립춘천병원', '해당업없음', '회복/보호자인계',\n",
       "       '마포요양병원', '이천생활치료센터', '도봉61/보호자인계', '성지병원', '신일병원', '고양생활치료센터',\n",
       "       '코리아병원', '영등포병원', '천안의료원', '보호자인계/서울경기수용가능병원없음', '송파선별진료소',\n",
       "       '강북연세병원', '신광여자고등학교', '오산고등학교', '염광고등학교', '오류고등학교', '서울방송고등학교',\n",
       "       '서울문화고등학교', '동북고등학교', '의정부성모병원', '국방어학원', '하나로내과의원',\n",
       "       '분당 새마을연수원 생활치료센터', '해당사항없음', '도봉소방서 감염관찰실', '도봉소방서 감염관리실',\n",
       "       '아트리움생활치료센터', '관악생활치료센터', '구로생활치료센터', '성북구생활치료센터', '서대문구 생활치료센터',\n",
       "       '국립중앙청소년수련원생활관', '아산경찰인재개발원', '영등포생활치료센터', '순천의료원', 'DB생활치료센터',\n",
       "       '방병원', '연천생활치료센터', '광진생활치료센터', '동대문생활치료센터', '평택박애병원', '공주의료원',\n",
       "       '은평생활치료센터', '대구동산병원', '인천백병원', '고양국군병원', '인천적십자병원', '생활 치료센터',\n",
       "       '고려대 생치', '동작생활치료센터'], dtype=object)"
      ]
     },
     "execution_count": 10,
     "metadata": {},
     "output_type": "execute_result"
    }
   ],
   "source": [
    "df1_raw[\"이송병원\"].unique()"
   ]
  },
  {
   "cell_type": "code",
   "execution_count": 11,
   "metadata": {},
   "outputs": [
    {
     "data": {
      "text/plain": [
       "0         True\n",
       "1         True\n",
       "2         True\n",
       "3         True\n",
       "4         True\n",
       "         ...  \n",
       "27662    False\n",
       "27663     True\n",
       "27664     True\n",
       "27665     True\n",
       "27666     True\n",
       "Name: 이송여부, Length: 27667, dtype: bool"
      ]
     },
     "execution_count": 11,
     "metadata": {},
     "output_type": "execute_result"
    }
   ],
   "source": [
    "df1_raw[\"이송여부\"]==\"이송\""
   ]
  },
  {
   "cell_type": "code",
   "execution_count": 12,
   "metadata": {},
   "outputs": [
    {
     "data": {
      "text/plain": [
       "2662"
      ]
     },
     "execution_count": 12,
     "metadata": {},
     "output_type": "execute_result"
    }
   ],
   "source": [
    "drop_non = df1_raw[df1_raw[\"이송여부\"]!=\"이송\"].index\n",
    "drop_non = drop_non.tolist()\n",
    "len(drop_non)"
   ]
  },
  {
   "cell_type": "code",
   "execution_count": 13,
   "metadata": {},
   "outputs": [
    {
     "data": {
      "text/plain": [
       "4458"
      ]
     },
     "execution_count": 13,
     "metadata": {},
     "output_type": "execute_result"
    }
   ],
   "source": [
    "drop_null = df1_raw[df1_raw[\"좌표계(X)\"].isnull()].index\n",
    "drop_null = drop_null.tolist()\n",
    "len(drop_null)"
   ]
  },
  {
   "cell_type": "code",
   "execution_count": 14,
   "metadata": {},
   "outputs": [
    {
     "data": {
      "text/plain": [
       "7120"
      ]
     },
     "execution_count": 14,
     "metadata": {},
     "output_type": "execute_result"
    }
   ],
   "source": [
    "drop_row = drop_non + drop_null\n",
    "len(drop_row)"
   ]
  },
  {
   "cell_type": "code",
   "execution_count": 15,
   "metadata": {},
   "outputs": [
    {
     "name": "stdout",
     "output_type": "stream",
     "text": [
      "(27667, 27)\n",
      "(23207, 27)\n"
     ]
    }
   ],
   "source": [
    "print(df1_raw.shape)\n",
    "df1_filter = df1_raw.drop(drop_row, axis=0)\n",
    "print(df1_filter.shape)"
   ]
  },
  {
   "cell_type": "code",
   "execution_count": null,
   "metadata": {
    "scrolled": true
   },
   "outputs": [],
   "source": [
    "df1_filter.head()"
   ]
  },
  {
   "cell_type": "code",
   "execution_count": 17,
   "metadata": {
    "scrolled": false
   },
   "outputs": [
    {
     "data": {
      "text/plain": [
       "노원소방서     2286\n",
       "중랑소방서     1807\n",
       "마포소방서     1747\n",
       "강북소방서     1604\n",
       "동대문소방서    1503\n",
       "도봉소방서     1459\n",
       "양천소방서     1081\n",
       "관악소방서      998\n",
       "종로소방서      962\n",
       "동작소방서      942\n",
       "중부소방서      870\n",
       "은평소방서      802\n",
       "서초소방서      787\n",
       "서대문소방서     732\n",
       "강동소방서      676\n",
       "구로소방서      670\n",
       "성북소방서      663\n",
       "강남소방서      640\n",
       "강서소방서      639\n",
       "송파소방서      625\n",
       "광진소방서      614\n",
       "영등포소방서     452\n",
       "성동소방서      343\n",
       "용산소방서      305\n",
       "Name: 코로나이송_출동소방서, dtype: int64"
      ]
     },
     "execution_count": 17,
     "metadata": {},
     "output_type": "execute_result"
    }
   ],
   "source": [
    "df1_filter[\"코로나이송_출동소방서\"].value_counts()"
   ]
  },
  {
   "cell_type": "code",
   "execution_count": 70,
   "metadata": {},
   "outputs": [
    {
     "data": {
      "text/plain": [
       "현장대응단           11744\n",
       "중화119안전센터         570\n",
       "수락119안전센터         412\n",
       "망우119안전센터         399\n",
       "면목119안전센터         363\n",
       "                ...  \n",
       "고척119안전센터           4\n",
       "성수119안전센터           4\n",
       "시흥119안전센터           2\n",
       "수궁119안전센터           2\n",
       "소방행정과119안전센터        1\n",
       "Name: 출동안전센터, Length: 98, dtype: int64"
      ]
     },
     "execution_count": 70,
     "metadata": {},
     "output_type": "execute_result"
    }
   ],
   "source": [
    "df1_filter[\"출동안전센터\"].value_counts()"
   ]
  },
  {
   "cell_type": "code",
   "execution_count": 18,
   "metadata": {
    "scrolled": false
   },
   "outputs": [
    {
     "data": {
      "text/html": [
       "<div>\n",
       "<style scoped>\n",
       "    .dataframe tbody tr th:only-of-type {\n",
       "        vertical-align: middle;\n",
       "    }\n",
       "\n",
       "    .dataframe tbody tr th {\n",
       "        vertical-align: top;\n",
       "    }\n",
       "\n",
       "    .dataframe thead th {\n",
       "        text-align: right;\n",
       "    }\n",
       "</style>\n",
       "<table border=\"1\" class=\"dataframe\">\n",
       "  <thead>\n",
       "    <tr style=\"text-align: right;\">\n",
       "      <th></th>\n",
       "      <th>소방서</th>\n",
       "      <th>출동건수</th>\n",
       "    </tr>\n",
       "  </thead>\n",
       "  <tbody>\n",
       "    <tr>\n",
       "      <th>0</th>\n",
       "      <td>노원구</td>\n",
       "      <td>2286</td>\n",
       "    </tr>\n",
       "    <tr>\n",
       "      <th>1</th>\n",
       "      <td>중랑구</td>\n",
       "      <td>1807</td>\n",
       "    </tr>\n",
       "    <tr>\n",
       "      <th>2</th>\n",
       "      <td>마포구</td>\n",
       "      <td>1747</td>\n",
       "    </tr>\n",
       "    <tr>\n",
       "      <th>3</th>\n",
       "      <td>강북구</td>\n",
       "      <td>1604</td>\n",
       "    </tr>\n",
       "    <tr>\n",
       "      <th>4</th>\n",
       "      <td>동대문구</td>\n",
       "      <td>1503</td>\n",
       "    </tr>\n",
       "    <tr>\n",
       "      <th>5</th>\n",
       "      <td>도봉구</td>\n",
       "      <td>1459</td>\n",
       "    </tr>\n",
       "    <tr>\n",
       "      <th>6</th>\n",
       "      <td>양천구</td>\n",
       "      <td>1081</td>\n",
       "    </tr>\n",
       "    <tr>\n",
       "      <th>7</th>\n",
       "      <td>관악구</td>\n",
       "      <td>998</td>\n",
       "    </tr>\n",
       "    <tr>\n",
       "      <th>8</th>\n",
       "      <td>종로구</td>\n",
       "      <td>962</td>\n",
       "    </tr>\n",
       "    <tr>\n",
       "      <th>9</th>\n",
       "      <td>동작구</td>\n",
       "      <td>942</td>\n",
       "    </tr>\n",
       "    <tr>\n",
       "      <th>10</th>\n",
       "      <td>중구</td>\n",
       "      <td>870</td>\n",
       "    </tr>\n",
       "    <tr>\n",
       "      <th>11</th>\n",
       "      <td>은평구</td>\n",
       "      <td>802</td>\n",
       "    </tr>\n",
       "    <tr>\n",
       "      <th>12</th>\n",
       "      <td>서초구</td>\n",
       "      <td>787</td>\n",
       "    </tr>\n",
       "    <tr>\n",
       "      <th>13</th>\n",
       "      <td>서대문구</td>\n",
       "      <td>732</td>\n",
       "    </tr>\n",
       "    <tr>\n",
       "      <th>14</th>\n",
       "      <td>강동구</td>\n",
       "      <td>676</td>\n",
       "    </tr>\n",
       "    <tr>\n",
       "      <th>15</th>\n",
       "      <td>구로구</td>\n",
       "      <td>670</td>\n",
       "    </tr>\n",
       "    <tr>\n",
       "      <th>16</th>\n",
       "      <td>금천구</td>\n",
       "      <td>670</td>\n",
       "    </tr>\n",
       "    <tr>\n",
       "      <th>17</th>\n",
       "      <td>성북구</td>\n",
       "      <td>663</td>\n",
       "    </tr>\n",
       "    <tr>\n",
       "      <th>18</th>\n",
       "      <td>강남구</td>\n",
       "      <td>640</td>\n",
       "    </tr>\n",
       "    <tr>\n",
       "      <th>19</th>\n",
       "      <td>강서구</td>\n",
       "      <td>639</td>\n",
       "    </tr>\n",
       "    <tr>\n",
       "      <th>20</th>\n",
       "      <td>송파구</td>\n",
       "      <td>625</td>\n",
       "    </tr>\n",
       "    <tr>\n",
       "      <th>21</th>\n",
       "      <td>광진구</td>\n",
       "      <td>614</td>\n",
       "    </tr>\n",
       "    <tr>\n",
       "      <th>22</th>\n",
       "      <td>영등포구</td>\n",
       "      <td>452</td>\n",
       "    </tr>\n",
       "    <tr>\n",
       "      <th>23</th>\n",
       "      <td>성동구</td>\n",
       "      <td>343</td>\n",
       "    </tr>\n",
       "    <tr>\n",
       "      <th>24</th>\n",
       "      <td>용산구</td>\n",
       "      <td>305</td>\n",
       "    </tr>\n",
       "  </tbody>\n",
       "</table>\n",
       "</div>"
      ],
      "text/plain": [
       "     소방서  출동건수\n",
       "0    노원구  2286\n",
       "1    중랑구  1807\n",
       "2    마포구  1747\n",
       "3    강북구  1604\n",
       "4   동대문구  1503\n",
       "5    도봉구  1459\n",
       "6    양천구  1081\n",
       "7    관악구   998\n",
       "8    종로구   962\n",
       "9    동작구   942\n",
       "10    중구   870\n",
       "11   은평구   802\n",
       "12   서초구   787\n",
       "13  서대문구   732\n",
       "14   강동구   676\n",
       "15   구로구   670\n",
       "16   금천구   670\n",
       "17   성북구   663\n",
       "18   강남구   640\n",
       "19   강서구   639\n",
       "20   송파구   625\n",
       "21   광진구   614\n",
       "22  영등포구   452\n",
       "23   성동구   343\n",
       "24   용산구   305"
      ]
     },
     "execution_count": 18,
     "metadata": {},
     "output_type": "execute_result"
    }
   ],
   "source": [
    "make_list=[('노원구','2286'), ('중랑구','1807'), ('마포구', '1747'), ('강북구','1604'), ('동대문구','1503'), \n",
    "           ('도봉구','1459'), ('양천구','1081'), ('관악구','998'), ('종로구','962'), ('동작구','942'),\n",
    "            ('중구','870'), ('은평구','802'), ('서초구','787'), ('서대문구','732'), ('강동구','676'),\n",
    "            ('구로구','670'),('금천구','670'), ('성북구','663'), ('강남구','640'), ('강서구','639'), ('송파구','625'),\n",
    "            ('광진구','614'), ('영등포구','452'), ('성동구','343'), ('용산구','305')]\n",
    "seoul_data = pd.DataFrame(make_list, columns=['소방서', '출동건수'])\n",
    "seoul_data['출동건수'] = seoul_data['출동건수'].astype('int')\n",
    "seoul_data"
   ]
  },
  {
   "cell_type": "code",
   "execution_count": 19,
   "metadata": {
    "scrolled": true
   },
   "outputs": [
    {
     "data": {
      "text/plain": [
       "고대안암병원      1876\n",
       "신촌세브란스병원    1543\n",
       "보라매병원       1169\n",
       "서울대병원       1032\n",
       "서울의료원        982\n",
       "상계백병원        963\n",
       "삼육서울병원       834\n",
       "을지병원         832\n",
       "한양대병원        695\n",
       "서울아산병원       653\n",
       "Name: 이송병원, dtype: int64"
      ]
     },
     "execution_count": 19,
     "metadata": {},
     "output_type": "execute_result"
    }
   ],
   "source": [
    "df1_filter[\"이송병원\"].value_counts().head(10)"
   ]
  },
  {
   "cell_type": "code",
   "execution_count": 20,
   "metadata": {},
   "outputs": [
    {
     "data": {
      "text/plain": [
       "193"
      ]
     },
     "execution_count": 20,
     "metadata": {},
     "output_type": "execute_result"
    }
   ],
   "source": [
    "len(df1_filter[\"이송병원\"].value_counts())"
   ]
  },
  {
   "cell_type": "code",
   "execution_count": 21,
   "metadata": {},
   "outputs": [],
   "source": [
    "def main():\n",
    "    with open('seoul_municipalities_geo.json', encoding='utf-8') as f:\n",
    "        geojson_data = json.load(f)\n",
    "        m=folium.Map(location=[37.563, 126.982], zoom_start=11)\n",
    "        \n",
    "        folium.Choropleth(\n",
    "            geo_data=geojson_data, \n",
    "            data=seoul_data,\n",
    "            columns=['소방서', '출동건수'],\n",
    "            key_on='feature.properties.SIG_KOR_NM',\n",
    "            fill_color='YlOrRd',\n",
    "            reset=True,\n",
    "            highlight=True\n",
    "            ).add_to(m)\n",
    "    \n",
    "        m.save(outfile=\"ex1.html\")\n",
    "    \n",
    "if __name__ == \"__main__\":\n",
    "    main()"
   ]
  },
  {
   "cell_type": "code",
   "execution_count": 22,
   "metadata": {
    "scrolled": false
   },
   "outputs": [
    {
     "data": {
      "text/html": [
       "\n",
       "        <iframe\n",
       "            width=\"700\"\n",
       "            height=\"600\"\n",
       "            src=\"ex1.html\"\n",
       "            frameborder=\"0\"\n",
       "            allowfullscreen\n",
       "        ></iframe>\n",
       "        "
      ],
      "text/plain": [
       "<IPython.lib.display.IFrame at 0x1de361b7460>"
      ]
     },
     "execution_count": 22,
     "metadata": {},
     "output_type": "execute_result"
    }
   ],
   "source": [
    "from IPython.display import IFrame\n",
    "\n",
    "IFrame(src='ex1.html', width=700, height=600)"
   ]
  },
  {
   "cell_type": "code",
   "execution_count": 23,
   "metadata": {
    "scrolled": true
   },
   "outputs": [
    {
     "data": {
      "text/html": [
       "<div>\n",
       "<style scoped>\n",
       "    .dataframe tbody tr th:only-of-type {\n",
       "        vertical-align: middle;\n",
       "    }\n",
       "\n",
       "    .dataframe tbody tr th {\n",
       "        vertical-align: top;\n",
       "    }\n",
       "\n",
       "    .dataframe thead th {\n",
       "        text-align: right;\n",
       "    }\n",
       "</style>\n",
       "<table border=\"1\" class=\"dataframe\">\n",
       "  <thead>\n",
       "    <tr style=\"text-align: right;\">\n",
       "      <th></th>\n",
       "      <th>소방서</th>\n",
       "      <th>코로나이송_출동소방서</th>\n",
       "      <th>출동안전센터</th>\n",
       "      <th>이송여부</th>\n",
       "      <th>이송병원</th>\n",
       "      <th>좌표계(X)</th>\n",
       "      <th>좌표계(Y)</th>\n",
       "    </tr>\n",
       "  </thead>\n",
       "  <tbody>\n",
       "    <tr>\n",
       "      <th>0</th>\n",
       "      <td>종로/대응단</td>\n",
       "      <td>종로소방서</td>\n",
       "      <td>현장대응단</td>\n",
       "      <td>이송</td>\n",
       "      <td>강북삼성병원</td>\n",
       "      <td>37.5685</td>\n",
       "      <td>126.967452</td>\n",
       "    </tr>\n",
       "    <tr>\n",
       "      <th>1</th>\n",
       "      <td>중랑/면목</td>\n",
       "      <td>중랑소방서</td>\n",
       "      <td>면목119안전센터</td>\n",
       "      <td>이송</td>\n",
       "      <td>서울의료원</td>\n",
       "      <td>37.6129</td>\n",
       "      <td>127.098167</td>\n",
       "    </tr>\n",
       "    <tr>\n",
       "      <th>2</th>\n",
       "      <td>서대문/음압</td>\n",
       "      <td>서대문소방서</td>\n",
       "      <td>현장대응단</td>\n",
       "      <td>이송</td>\n",
       "      <td>서울대병원</td>\n",
       "      <td>37.5797</td>\n",
       "      <td>126.999042</td>\n",
       "    </tr>\n",
       "    <tr>\n",
       "      <th>3</th>\n",
       "      <td>강남/수서</td>\n",
       "      <td>강남소방서</td>\n",
       "      <td>수서119안전센터</td>\n",
       "      <td>이송</td>\n",
       "      <td>삼성서울병원</td>\n",
       "      <td>37.4891</td>\n",
       "      <td>127.087632</td>\n",
       "    </tr>\n",
       "    <tr>\n",
       "      <th>4</th>\n",
       "      <td>동작/백운</td>\n",
       "      <td>동작소방서</td>\n",
       "      <td>백운119안전센터</td>\n",
       "      <td>이송</td>\n",
       "      <td>보라매병원</td>\n",
       "      <td>37.4936</td>\n",
       "      <td>126.924641</td>\n",
       "    </tr>\n",
       "    <tr>\n",
       "      <th>...</th>\n",
       "      <td>...</td>\n",
       "      <td>...</td>\n",
       "      <td>...</td>\n",
       "      <td>...</td>\n",
       "      <td>...</td>\n",
       "      <td>...</td>\n",
       "      <td>...</td>\n",
       "    </tr>\n",
       "    <tr>\n",
       "      <th>27661</th>\n",
       "      <td>노원/월계</td>\n",
       "      <td>노원소방서</td>\n",
       "      <td>월계119안전센터</td>\n",
       "      <td>이송</td>\n",
       "      <td>가톨릭대학교 의정부성모병원</td>\n",
       "      <td>37.7588</td>\n",
       "      <td>127.077725</td>\n",
       "    </tr>\n",
       "    <tr>\n",
       "      <th>27663</th>\n",
       "      <td>중랑/대응단</td>\n",
       "      <td>중랑소방서</td>\n",
       "      <td>현장대응단</td>\n",
       "      <td>이송</td>\n",
       "      <td>건국대병원</td>\n",
       "      <td>37.541</td>\n",
       "      <td>127.072167</td>\n",
       "    </tr>\n",
       "    <tr>\n",
       "      <th>27664</th>\n",
       "      <td>중부/충무로</td>\n",
       "      <td>중부소방서</td>\n",
       "      <td>충무로119안전센터</td>\n",
       "      <td>이송</td>\n",
       "      <td>고대안암병원</td>\n",
       "      <td>37.5872</td>\n",
       "      <td>127.026615</td>\n",
       "    </tr>\n",
       "    <tr>\n",
       "      <th>27665</th>\n",
       "      <td>노원/공릉</td>\n",
       "      <td>노원소방서</td>\n",
       "      <td>공릉119안전센터</td>\n",
       "      <td>이송</td>\n",
       "      <td>한양대병원</td>\n",
       "      <td>37.5599</td>\n",
       "      <td>127.043963</td>\n",
       "    </tr>\n",
       "    <tr>\n",
       "      <th>27666</th>\n",
       "      <td>중랑/중화</td>\n",
       "      <td>중랑소방서</td>\n",
       "      <td>중화119안전센터</td>\n",
       "      <td>이송</td>\n",
       "      <td>서울대병원</td>\n",
       "      <td>37.5797</td>\n",
       "      <td>126.999042</td>\n",
       "    </tr>\n",
       "  </tbody>\n",
       "</table>\n",
       "<p>23207 rows × 7 columns</p>\n",
       "</div>"
      ],
      "text/plain": [
       "          소방서 코로나이송_출동소방서      출동안전센터 이송여부            이송병원   좌표계(X)  \\\n",
       "0      종로/대응단       종로소방서       현장대응단   이송          강북삼성병원  37.5685   \n",
       "1       중랑/면목       중랑소방서   면목119안전센터   이송           서울의료원  37.6129   \n",
       "2      서대문/음압      서대문소방서       현장대응단   이송           서울대병원  37.5797   \n",
       "3       강남/수서       강남소방서   수서119안전센터   이송          삼성서울병원  37.4891   \n",
       "4       동작/백운       동작소방서   백운119안전센터   이송           보라매병원  37.4936   \n",
       "...       ...         ...         ...  ...             ...      ...   \n",
       "27661   노원/월계       노원소방서   월계119안전센터   이송  가톨릭대학교 의정부성모병원  37.7588   \n",
       "27663  중랑/대응단       중랑소방서       현장대응단   이송           건국대병원   37.541   \n",
       "27664  중부/충무로       중부소방서  충무로119안전센터   이송          고대안암병원  37.5872   \n",
       "27665   노원/공릉       노원소방서   공릉119안전센터   이송           한양대병원  37.5599   \n",
       "27666   중랑/중화       중랑소방서   중화119안전센터   이송           서울대병원  37.5797   \n",
       "\n",
       "           좌표계(Y)  \n",
       "0      126.967452  \n",
       "1      127.098167  \n",
       "2      126.999042  \n",
       "3      127.087632  \n",
       "4      126.924641  \n",
       "...           ...  \n",
       "27661  127.077725  \n",
       "27663  127.072167  \n",
       "27664  127.026615  \n",
       "27665  127.043963  \n",
       "27666  126.999042  \n",
       "\n",
       "[23207 rows x 7 columns]"
      ]
     },
     "execution_count": 23,
     "metadata": {},
     "output_type": "execute_result"
    }
   ],
   "source": [
    "df1_use = df1_filter.loc[:, ['소방서','코로나이송_출동소방서','출동안전센터','이송여부','이송병원','좌표계(X)','좌표계(Y)']]\n",
    "df1_use"
   ]
  },
  {
   "cell_type": "code",
   "execution_count": 24,
   "metadata": {},
   "outputs": [
    {
     "data": {
      "text/html": [
       "<div>\n",
       "<style scoped>\n",
       "    .dataframe tbody tr th:only-of-type {\n",
       "        vertical-align: middle;\n",
       "    }\n",
       "\n",
       "    .dataframe tbody tr th {\n",
       "        vertical-align: top;\n",
       "    }\n",
       "\n",
       "    .dataframe thead th {\n",
       "        text-align: right;\n",
       "    }\n",
       "</style>\n",
       "<table border=\"1\" class=\"dataframe\">\n",
       "  <thead>\n",
       "    <tr style=\"text-align: right;\">\n",
       "      <th></th>\n",
       "      <th>이송건수</th>\n",
       "    </tr>\n",
       "  </thead>\n",
       "  <tbody>\n",
       "    <tr>\n",
       "      <th>고대안암병원</th>\n",
       "      <td>1876</td>\n",
       "    </tr>\n",
       "    <tr>\n",
       "      <th>신촌세브란스병원</th>\n",
       "      <td>1543</td>\n",
       "    </tr>\n",
       "    <tr>\n",
       "      <th>보라매병원</th>\n",
       "      <td>1169</td>\n",
       "    </tr>\n",
       "    <tr>\n",
       "      <th>서울대병원</th>\n",
       "      <td>1032</td>\n",
       "    </tr>\n",
       "    <tr>\n",
       "      <th>서울의료원</th>\n",
       "      <td>982</td>\n",
       "    </tr>\n",
       "    <tr>\n",
       "      <th>상계백병원</th>\n",
       "      <td>963</td>\n",
       "    </tr>\n",
       "    <tr>\n",
       "      <th>삼육서울병원</th>\n",
       "      <td>834</td>\n",
       "    </tr>\n",
       "    <tr>\n",
       "      <th>을지병원</th>\n",
       "      <td>832</td>\n",
       "    </tr>\n",
       "    <tr>\n",
       "      <th>한양대병원</th>\n",
       "      <td>695</td>\n",
       "    </tr>\n",
       "    <tr>\n",
       "      <th>서울아산병원</th>\n",
       "      <td>653</td>\n",
       "    </tr>\n",
       "  </tbody>\n",
       "</table>\n",
       "</div>"
      ],
      "text/plain": [
       "          이송건수\n",
       "고대안암병원    1876\n",
       "신촌세브란스병원  1543\n",
       "보라매병원     1169\n",
       "서울대병원     1032\n",
       "서울의료원      982\n",
       "상계백병원      963\n",
       "삼육서울병원     834\n",
       "을지병원       832\n",
       "한양대병원      695\n",
       "서울아산병원     653"
      ]
     },
     "execution_count": 24,
     "metadata": {},
     "output_type": "execute_result"
    }
   ],
   "source": [
    "hos_counts = pd.DataFrame(df1_filter[\"이송병원\"].value_counts())\n",
    "hos_counts.columns.values[0]=\"이송건수\"\n",
    "hos_counts.head(10)"
   ]
  },
  {
   "cell_type": "code",
   "execution_count": 25,
   "metadata": {},
   "outputs": [
    {
     "data": {
      "text/html": [
       "<div>\n",
       "<style scoped>\n",
       "    .dataframe tbody tr th:only-of-type {\n",
       "        vertical-align: middle;\n",
       "    }\n",
       "\n",
       "    .dataframe tbody tr th {\n",
       "        vertical-align: top;\n",
       "    }\n",
       "\n",
       "    .dataframe thead th {\n",
       "        text-align: right;\n",
       "    }\n",
       "</style>\n",
       "<table border=\"1\" class=\"dataframe\">\n",
       "  <thead>\n",
       "    <tr style=\"text-align: right;\">\n",
       "      <th></th>\n",
       "      <th>코로나이송_출동소방서</th>\n",
       "      <th>이송병원</th>\n",
       "      <th>좌표계(X)</th>\n",
       "      <th>좌표계(Y)</th>\n",
       "      <th>이송건수</th>\n",
       "    </tr>\n",
       "  </thead>\n",
       "  <tbody>\n",
       "    <tr>\n",
       "      <th>1344</th>\n",
       "      <td>은평소방서</td>\n",
       "      <td>은평연세병원</td>\n",
       "      <td>37.6149</td>\n",
       "      <td>126.917477</td>\n",
       "      <td>1</td>\n",
       "    </tr>\n",
       "    <tr>\n",
       "      <th>1733</th>\n",
       "      <td>강서소방서</td>\n",
       "      <td>부민병원</td>\n",
       "      <td>37.5571</td>\n",
       "      <td>126.850906</td>\n",
       "      <td>1</td>\n",
       "    </tr>\n",
       "    <tr>\n",
       "      <th>1917</th>\n",
       "      <td>서대문소방서</td>\n",
       "      <td>서울시 브릿지지원센터</td>\n",
       "      <td>37.5621</td>\n",
       "      <td>126.967579</td>\n",
       "      <td>1</td>\n",
       "    </tr>\n",
       "    <tr>\n",
       "      <th>1942</th>\n",
       "      <td>구로소방서</td>\n",
       "      <td>정재면내과</td>\n",
       "      <td>37.5038</td>\n",
       "      <td>126.879664</td>\n",
       "      <td>1</td>\n",
       "    </tr>\n",
       "    <tr>\n",
       "      <th>2709</th>\n",
       "      <td>강북소방서</td>\n",
       "      <td>지혜병원</td>\n",
       "      <td>37.5619</td>\n",
       "      <td>127.065894</td>\n",
       "      <td>1</td>\n",
       "    </tr>\n",
       "    <tr>\n",
       "      <th>...</th>\n",
       "      <td>...</td>\n",
       "      <td>...</td>\n",
       "      <td>...</td>\n",
       "      <td>...</td>\n",
       "      <td>...</td>\n",
       "    </tr>\n",
       "    <tr>\n",
       "      <th>23202</th>\n",
       "      <td>노원소방서</td>\n",
       "      <td>가톨릭대학교 의정부성모병원</td>\n",
       "      <td>37.7588</td>\n",
       "      <td>127.077725</td>\n",
       "      <td>196</td>\n",
       "    </tr>\n",
       "    <tr>\n",
       "      <th>23203</th>\n",
       "      <td>중랑소방서</td>\n",
       "      <td>건국대병원</td>\n",
       "      <td>37.541</td>\n",
       "      <td>127.072167</td>\n",
       "      <td>449</td>\n",
       "    </tr>\n",
       "    <tr>\n",
       "      <th>23204</th>\n",
       "      <td>중부소방서</td>\n",
       "      <td>고대안암병원</td>\n",
       "      <td>37.5872</td>\n",
       "      <td>127.026615</td>\n",
       "      <td>1876</td>\n",
       "    </tr>\n",
       "    <tr>\n",
       "      <th>23205</th>\n",
       "      <td>노원소방서</td>\n",
       "      <td>한양대병원</td>\n",
       "      <td>37.5599</td>\n",
       "      <td>127.043963</td>\n",
       "      <td>695</td>\n",
       "    </tr>\n",
       "    <tr>\n",
       "      <th>23206</th>\n",
       "      <td>중랑소방서</td>\n",
       "      <td>서울대병원</td>\n",
       "      <td>37.5797</td>\n",
       "      <td>126.999042</td>\n",
       "      <td>1032</td>\n",
       "    </tr>\n",
       "  </tbody>\n",
       "</table>\n",
       "<p>193 rows × 5 columns</p>\n",
       "</div>"
      ],
      "text/plain": [
       "      코로나이송_출동소방서            이송병원   좌표계(X)      좌표계(Y)  이송건수\n",
       "1344        은평소방서          은평연세병원  37.6149  126.917477     1\n",
       "1733        강서소방서            부민병원  37.5571  126.850906     1\n",
       "1917       서대문소방서     서울시 브릿지지원센터  37.5621  126.967579     1\n",
       "1942        구로소방서           정재면내과  37.5038  126.879664     1\n",
       "2709        강북소방서            지혜병원  37.5619  127.065894     1\n",
       "...           ...             ...      ...         ...   ...\n",
       "23202       노원소방서  가톨릭대학교 의정부성모병원  37.7588  127.077725   196\n",
       "23203       중랑소방서           건국대병원   37.541  127.072167   449\n",
       "23204       중부소방서          고대안암병원  37.5872  127.026615  1876\n",
       "23205       노원소방서           한양대병원  37.5599  127.043963   695\n",
       "23206       중랑소방서           서울대병원  37.5797  126.999042  1032\n",
       "\n",
       "[193 rows x 5 columns]"
      ]
     },
     "execution_count": 25,
     "metadata": {},
     "output_type": "execute_result"
    }
   ],
   "source": [
    "df2_hos_counts = pd.merge(df1_use, hos_counts, left_on=['이송병원'], right_on=hos_counts.index, how='left')\n",
    "df2_hos_counts = df2_hos_counts.drop_duplicates(['이송병원'], keep='last')\n",
    "df2_hos_counts = df2_hos_counts.loc[:, ['코로나이송_출동소방서', '이송병원', '좌표계(X)', '좌표계(Y)', '이송건수']]\n",
    "df2_hos_counts"
   ]
  },
  {
   "cell_type": "code",
   "execution_count": 26,
   "metadata": {},
   "outputs": [],
   "source": [
    "df2_hos_counts = df2_hos_counts.sort_values(by='이송건수', axis=0, ascending=False)"
   ]
  },
  {
   "cell_type": "code",
   "execution_count": 27,
   "metadata": {},
   "outputs": [
    {
     "data": {
      "text/html": [
       "<div>\n",
       "<style scoped>\n",
       "    .dataframe tbody tr th:only-of-type {\n",
       "        vertical-align: middle;\n",
       "    }\n",
       "\n",
       "    .dataframe tbody tr th {\n",
       "        vertical-align: top;\n",
       "    }\n",
       "\n",
       "    .dataframe thead th {\n",
       "        text-align: right;\n",
       "    }\n",
       "</style>\n",
       "<table border=\"1\" class=\"dataframe\">\n",
       "  <thead>\n",
       "    <tr style=\"text-align: right;\">\n",
       "      <th></th>\n",
       "      <th>index</th>\n",
       "      <th>코로나이송_출동소방서</th>\n",
       "      <th>이송병원</th>\n",
       "      <th>좌표계(X)</th>\n",
       "      <th>좌표계(Y)</th>\n",
       "      <th>이송건수</th>\n",
       "    </tr>\n",
       "  </thead>\n",
       "  <tbody>\n",
       "    <tr>\n",
       "      <th>0</th>\n",
       "      <td>23204</td>\n",
       "      <td>중부소방서</td>\n",
       "      <td>고대안암병원</td>\n",
       "      <td>37.5872</td>\n",
       "      <td>127.026615</td>\n",
       "      <td>1876</td>\n",
       "    </tr>\n",
       "    <tr>\n",
       "      <th>1</th>\n",
       "      <td>23173</td>\n",
       "      <td>마포소방서</td>\n",
       "      <td>신촌세브란스병원</td>\n",
       "      <td>37.5626</td>\n",
       "      <td>126.940858</td>\n",
       "      <td>1543</td>\n",
       "    </tr>\n",
       "    <tr>\n",
       "      <th>2</th>\n",
       "      <td>23196</td>\n",
       "      <td>관악소방서</td>\n",
       "      <td>보라매병원</td>\n",
       "      <td>37.4936</td>\n",
       "      <td>126.924641</td>\n",
       "      <td>1169</td>\n",
       "    </tr>\n",
       "    <tr>\n",
       "      <th>3</th>\n",
       "      <td>23206</td>\n",
       "      <td>중랑소방서</td>\n",
       "      <td>서울대병원</td>\n",
       "      <td>37.5797</td>\n",
       "      <td>126.999042</td>\n",
       "      <td>1032</td>\n",
       "    </tr>\n",
       "    <tr>\n",
       "      <th>4</th>\n",
       "      <td>23129</td>\n",
       "      <td>성북소방서</td>\n",
       "      <td>서울의료원</td>\n",
       "      <td>37.6129</td>\n",
       "      <td>127.098167</td>\n",
       "      <td>982</td>\n",
       "    </tr>\n",
       "    <tr>\n",
       "      <th>5</th>\n",
       "      <td>23201</td>\n",
       "      <td>도봉소방서</td>\n",
       "      <td>상계백병원</td>\n",
       "      <td>37.6487</td>\n",
       "      <td>127.063089</td>\n",
       "      <td>963</td>\n",
       "    </tr>\n",
       "    <tr>\n",
       "      <th>6</th>\n",
       "      <td>23197</td>\n",
       "      <td>중랑소방서</td>\n",
       "      <td>삼육서울병원</td>\n",
       "      <td>37.5881</td>\n",
       "      <td>127.065332</td>\n",
       "      <td>834</td>\n",
       "    </tr>\n",
       "    <tr>\n",
       "      <th>7</th>\n",
       "      <td>23189</td>\n",
       "      <td>도봉소방서</td>\n",
       "      <td>을지병원</td>\n",
       "      <td>37.637</td>\n",
       "      <td>127.070261</td>\n",
       "      <td>832</td>\n",
       "    </tr>\n",
       "    <tr>\n",
       "      <th>8</th>\n",
       "      <td>23205</td>\n",
       "      <td>노원소방서</td>\n",
       "      <td>한양대병원</td>\n",
       "      <td>37.5599</td>\n",
       "      <td>127.043963</td>\n",
       "      <td>695</td>\n",
       "    </tr>\n",
       "    <tr>\n",
       "      <th>9</th>\n",
       "      <td>23178</td>\n",
       "      <td>서대문소방서</td>\n",
       "      <td>서울아산병원</td>\n",
       "      <td>37.5271</td>\n",
       "      <td>127.108317</td>\n",
       "      <td>653</td>\n",
       "    </tr>\n",
       "    <tr>\n",
       "      <th>10</th>\n",
       "      <td>23133</td>\n",
       "      <td>종로소방서</td>\n",
       "      <td>경희의료원</td>\n",
       "      <td>37.5941</td>\n",
       "      <td>127.051344</td>\n",
       "      <td>642</td>\n",
       "    </tr>\n",
       "    <tr>\n",
       "      <th>11</th>\n",
       "      <td>23098</td>\n",
       "      <td>강북소방서</td>\n",
       "      <td>한일병원</td>\n",
       "      <td>37.646</td>\n",
       "      <td>127.028568</td>\n",
       "      <td>611</td>\n",
       "    </tr>\n",
       "    <tr>\n",
       "      <th>12</th>\n",
       "      <td>23049</td>\n",
       "      <td>마포소방서</td>\n",
       "      <td>이대목동병원</td>\n",
       "      <td>37.5373</td>\n",
       "      <td>126.885542</td>\n",
       "      <td>542</td>\n",
       "    </tr>\n",
       "    <tr>\n",
       "      <th>13</th>\n",
       "      <td>23099</td>\n",
       "      <td>관악소방서</td>\n",
       "      <td>이대서울병원</td>\n",
       "      <td>37.5581</td>\n",
       "      <td>126.836642</td>\n",
       "      <td>468</td>\n",
       "    </tr>\n",
       "    <tr>\n",
       "      <th>14</th>\n",
       "      <td>23031</td>\n",
       "      <td>성북소방서</td>\n",
       "      <td>태릉생활치료센터</td>\n",
       "      <td>37.6371</td>\n",
       "      <td>127.103421</td>\n",
       "      <td>465</td>\n",
       "    </tr>\n",
       "    <tr>\n",
       "      <th>15</th>\n",
       "      <td>23199</td>\n",
       "      <td>도봉소방서</td>\n",
       "      <td>강북삼성병원</td>\n",
       "      <td>37.5685</td>\n",
       "      <td>126.967452</td>\n",
       "      <td>462</td>\n",
       "    </tr>\n",
       "    <tr>\n",
       "      <th>16</th>\n",
       "      <td>23180</td>\n",
       "      <td>성북소방서</td>\n",
       "      <td>서남병원</td>\n",
       "      <td>37.5126</td>\n",
       "      <td>126.833084</td>\n",
       "      <td>453</td>\n",
       "    </tr>\n",
       "    <tr>\n",
       "      <th>17</th>\n",
       "      <td>23203</td>\n",
       "      <td>중랑소방서</td>\n",
       "      <td>건국대병원</td>\n",
       "      <td>37.541</td>\n",
       "      <td>127.072167</td>\n",
       "      <td>449</td>\n",
       "    </tr>\n",
       "    <tr>\n",
       "      <th>18</th>\n",
       "      <td>23172</td>\n",
       "      <td>관악소방서</td>\n",
       "      <td>고대구로병원</td>\n",
       "      <td>37.4925</td>\n",
       "      <td>126.884937</td>\n",
       "      <td>422</td>\n",
       "    </tr>\n",
       "    <tr>\n",
       "      <th>19</th>\n",
       "      <td>23177</td>\n",
       "      <td>중부소방서</td>\n",
       "      <td>가톨릭대학교 서울성모병원</td>\n",
       "      <td>37.502</td>\n",
       "      <td>127.004812</td>\n",
       "      <td>408</td>\n",
       "    </tr>\n",
       "    <tr>\n",
       "      <th>20</th>\n",
       "      <td>23113</td>\n",
       "      <td>노원소방서</td>\n",
       "      <td>서울소방학교</td>\n",
       "      <td>37.634</td>\n",
       "      <td>126.914423</td>\n",
       "      <td>370</td>\n",
       "    </tr>\n",
       "    <tr>\n",
       "      <th>21</th>\n",
       "      <td>22557</td>\n",
       "      <td>중부소방서</td>\n",
       "      <td>순천향대학교 서울병원</td>\n",
       "      <td>37.5341</td>\n",
       "      <td>127.004409</td>\n",
       "      <td>359</td>\n",
       "    </tr>\n",
       "    <tr>\n",
       "      <th>22</th>\n",
       "      <td>23185</td>\n",
       "      <td>광진소방서</td>\n",
       "      <td>국립중앙의료원</td>\n",
       "      <td>37.5674</td>\n",
       "      <td>127.005616</td>\n",
       "      <td>332</td>\n",
       "    </tr>\n",
       "    <tr>\n",
       "      <th>23</th>\n",
       "      <td>23054</td>\n",
       "      <td>관악소방서</td>\n",
       "      <td>중앙대병원</td>\n",
       "      <td>37.507</td>\n",
       "      <td>126.960797</td>\n",
       "      <td>304</td>\n",
       "    </tr>\n",
       "    <tr>\n",
       "      <th>24</th>\n",
       "      <td>23182</td>\n",
       "      <td>강서소방서</td>\n",
       "      <td>서북병원</td>\n",
       "      <td>37.6045</td>\n",
       "      <td>126.905065</td>\n",
       "      <td>293</td>\n",
       "    </tr>\n",
       "    <tr>\n",
       "      <th>25</th>\n",
       "      <td>23190</td>\n",
       "      <td>용산소방서</td>\n",
       "      <td>서울적십자병원</td>\n",
       "      <td>37.5672</td>\n",
       "      <td>126.966917</td>\n",
       "      <td>293</td>\n",
       "    </tr>\n",
       "    <tr>\n",
       "      <th>26</th>\n",
       "      <td>22981</td>\n",
       "      <td>마포소방서</td>\n",
       "      <td>서울백병원</td>\n",
       "      <td>37.5652</td>\n",
       "      <td>126.988710</td>\n",
       "      <td>269</td>\n",
       "    </tr>\n",
       "    <tr>\n",
       "      <th>27</th>\n",
       "      <td>22947</td>\n",
       "      <td>중랑소방서</td>\n",
       "      <td>삼성서울병원</td>\n",
       "      <td>37.4891</td>\n",
       "      <td>127.087632</td>\n",
       "      <td>259</td>\n",
       "    </tr>\n",
       "    <tr>\n",
       "      <th>28</th>\n",
       "      <td>23193</td>\n",
       "      <td>관악소방서</td>\n",
       "      <td>에이치플러스양지병원</td>\n",
       "      <td>37.4844</td>\n",
       "      <td>126.932457</td>\n",
       "      <td>250</td>\n",
       "    </tr>\n",
       "    <tr>\n",
       "      <th>29</th>\n",
       "      <td>22933</td>\n",
       "      <td>마포소방서</td>\n",
       "      <td>가톨릭대학교 은평성모병원</td>\n",
       "      <td>37.634</td>\n",
       "      <td>126.916538</td>\n",
       "      <td>248</td>\n",
       "    </tr>\n",
       "    <tr>\n",
       "      <th>30</th>\n",
       "      <td>22888</td>\n",
       "      <td>양천소방서</td>\n",
       "      <td>강남성심병원</td>\n",
       "      <td>37.4929</td>\n",
       "      <td>126.908780</td>\n",
       "      <td>246</td>\n",
       "    </tr>\n",
       "    <tr>\n",
       "      <th>31</th>\n",
       "      <td>22894</td>\n",
       "      <td>중랑소방서</td>\n",
       "      <td>남산생활치료센터</td>\n",
       "      <td>37.5586</td>\n",
       "      <td>126.991036</td>\n",
       "      <td>241</td>\n",
       "    </tr>\n",
       "    <tr>\n",
       "      <th>32</th>\n",
       "      <td>22182</td>\n",
       "      <td>강서소방서</td>\n",
       "      <td>가톨릭대학교 여의도성모병원</td>\n",
       "      <td>37.5179</td>\n",
       "      <td>126.935526</td>\n",
       "      <td>219</td>\n",
       "    </tr>\n",
       "    <tr>\n",
       "      <th>33</th>\n",
       "      <td>23202</td>\n",
       "      <td>노원소방서</td>\n",
       "      <td>가톨릭대학교 의정부성모병원</td>\n",
       "      <td>37.7588</td>\n",
       "      <td>127.077725</td>\n",
       "      <td>196</td>\n",
       "    </tr>\n",
       "    <tr>\n",
       "      <th>34</th>\n",
       "      <td>22832</td>\n",
       "      <td>관악소방서</td>\n",
       "      <td>신길성애병원</td>\n",
       "      <td>37.5121</td>\n",
       "      <td>126.922318</td>\n",
       "      <td>195</td>\n",
       "    </tr>\n",
       "    <tr>\n",
       "      <th>35</th>\n",
       "      <td>23188</td>\n",
       "      <td>도봉소방서</td>\n",
       "      <td>코이카생활치료센터</td>\n",
       "      <td>37.4156</td>\n",
       "      <td>127.099787</td>\n",
       "      <td>185</td>\n",
       "    </tr>\n",
       "    <tr>\n",
       "      <th>36</th>\n",
       "      <td>22887</td>\n",
       "      <td>양천소방서</td>\n",
       "      <td>분당 국제교육원 생활치료센터</td>\n",
       "      <td>37.3675</td>\n",
       "      <td>127.105159</td>\n",
       "      <td>175</td>\n",
       "    </tr>\n",
       "    <tr>\n",
       "      <th>37</th>\n",
       "      <td>22904</td>\n",
       "      <td>송파소방서</td>\n",
       "      <td>강동성심병원</td>\n",
       "      <td>37.5363</td>\n",
       "      <td>127.135402</td>\n",
       "      <td>175</td>\n",
       "    </tr>\n",
       "    <tr>\n",
       "      <th>38</th>\n",
       "      <td>23102</td>\n",
       "      <td>동대문소방서</td>\n",
       "      <td>안산생활치료센터</td>\n",
       "      <td>37.3203</td>\n",
       "      <td>126.797866</td>\n",
       "      <td>169</td>\n",
       "    </tr>\n",
       "    <tr>\n",
       "      <th>39</th>\n",
       "      <td>22895</td>\n",
       "      <td>중부소방서</td>\n",
       "      <td>강남세브란스병원</td>\n",
       "      <td>37.4929</td>\n",
       "      <td>127.046326</td>\n",
       "      <td>168</td>\n",
       "    </tr>\n",
       "    <tr>\n",
       "      <th>40</th>\n",
       "      <td>23176</td>\n",
       "      <td>마포소방서</td>\n",
       "      <td>북부병원</td>\n",
       "      <td>37.6044</td>\n",
       "      <td>127.107892</td>\n",
       "      <td>163</td>\n",
       "    </tr>\n",
       "    <tr>\n",
       "      <th>41</th>\n",
       "      <td>23141</td>\n",
       "      <td>서대문소방서</td>\n",
       "      <td>한전생활치료센터</td>\n",
       "      <td>37.6337</td>\n",
       "      <td>127.085049</td>\n",
       "      <td>150</td>\n",
       "    </tr>\n",
       "    <tr>\n",
       "      <th>42</th>\n",
       "      <td>23115</td>\n",
       "      <td>강동소방서</td>\n",
       "      <td>동부병원</td>\n",
       "      <td>37.5755</td>\n",
       "      <td>127.031499</td>\n",
       "      <td>147</td>\n",
       "    </tr>\n",
       "    <tr>\n",
       "      <th>43</th>\n",
       "      <td>23123</td>\n",
       "      <td>마포소방서</td>\n",
       "      <td>용인SK생활치료센터</td>\n",
       "      <td>37.2051</td>\n",
       "      <td>127.306223</td>\n",
       "      <td>133</td>\n",
       "    </tr>\n",
       "    <tr>\n",
       "      <th>44</th>\n",
       "      <td>23094</td>\n",
       "      <td>성북소방서</td>\n",
       "      <td>중앙보훈병원</td>\n",
       "      <td>37.5308</td>\n",
       "      <td>127.148054</td>\n",
       "      <td>132</td>\n",
       "    </tr>\n",
       "    <tr>\n",
       "      <th>45</th>\n",
       "      <td>22452</td>\n",
       "      <td>광진소방서</td>\n",
       "      <td>한양대구리병원</td>\n",
       "      <td>37.6014</td>\n",
       "      <td>127.132392</td>\n",
       "      <td>128</td>\n",
       "    </tr>\n",
       "    <tr>\n",
       "      <th>46</th>\n",
       "      <td>22950</td>\n",
       "      <td>중랑소방서</td>\n",
       "      <td>용인삼성생활치료센터</td>\n",
       "      <td>37.3067</td>\n",
       "      <td>127.190676</td>\n",
       "      <td>122</td>\n",
       "    </tr>\n",
       "    <tr>\n",
       "      <th>47</th>\n",
       "      <td>23159</td>\n",
       "      <td>관악소방서</td>\n",
       "      <td>관악생활치료센터</td>\n",
       "      <td>37.4813</td>\n",
       "      <td>126.912799</td>\n",
       "      <td>108</td>\n",
       "    </tr>\n",
       "    <tr>\n",
       "      <th>48</th>\n",
       "      <td>22615</td>\n",
       "      <td>중랑소방서</td>\n",
       "      <td>녹색병원</td>\n",
       "      <td>37.3364</td>\n",
       "      <td>126.748981</td>\n",
       "      <td>103</td>\n",
       "    </tr>\n",
       "    <tr>\n",
       "      <th>49</th>\n",
       "      <td>23111</td>\n",
       "      <td>도봉소방서</td>\n",
       "      <td>분당 새마을연수원 생활치료센터</td>\n",
       "      <td>37.3903</td>\n",
       "      <td>127.156273</td>\n",
       "      <td>97</td>\n",
       "    </tr>\n",
       "  </tbody>\n",
       "</table>\n",
       "</div>"
      ],
      "text/plain": [
       "    index 코로나이송_출동소방서              이송병원   좌표계(X)      좌표계(Y)  이송건수\n",
       "0   23204       중부소방서            고대안암병원  37.5872  127.026615  1876\n",
       "1   23173       마포소방서          신촌세브란스병원  37.5626  126.940858  1543\n",
       "2   23196       관악소방서             보라매병원  37.4936  126.924641  1169\n",
       "3   23206       중랑소방서             서울대병원  37.5797  126.999042  1032\n",
       "4   23129       성북소방서             서울의료원  37.6129  127.098167   982\n",
       "5   23201       도봉소방서             상계백병원  37.6487  127.063089   963\n",
       "6   23197       중랑소방서            삼육서울병원  37.5881  127.065332   834\n",
       "7   23189       도봉소방서              을지병원   37.637  127.070261   832\n",
       "8   23205       노원소방서             한양대병원  37.5599  127.043963   695\n",
       "9   23178      서대문소방서            서울아산병원  37.5271  127.108317   653\n",
       "10  23133       종로소방서             경희의료원  37.5941  127.051344   642\n",
       "11  23098       강북소방서              한일병원   37.646  127.028568   611\n",
       "12  23049       마포소방서            이대목동병원  37.5373  126.885542   542\n",
       "13  23099       관악소방서            이대서울병원  37.5581  126.836642   468\n",
       "14  23031       성북소방서          태릉생활치료센터  37.6371  127.103421   465\n",
       "15  23199       도봉소방서            강북삼성병원  37.5685  126.967452   462\n",
       "16  23180       성북소방서              서남병원  37.5126  126.833084   453\n",
       "17  23203       중랑소방서             건국대병원   37.541  127.072167   449\n",
       "18  23172       관악소방서            고대구로병원  37.4925  126.884937   422\n",
       "19  23177       중부소방서     가톨릭대학교 서울성모병원   37.502  127.004812   408\n",
       "20  23113       노원소방서            서울소방학교   37.634  126.914423   370\n",
       "21  22557       중부소방서       순천향대학교 서울병원  37.5341  127.004409   359\n",
       "22  23185       광진소방서           국립중앙의료원  37.5674  127.005616   332\n",
       "23  23054       관악소방서             중앙대병원   37.507  126.960797   304\n",
       "24  23182       강서소방서              서북병원  37.6045  126.905065   293\n",
       "25  23190       용산소방서           서울적십자병원  37.5672  126.966917   293\n",
       "26  22981       마포소방서             서울백병원  37.5652  126.988710   269\n",
       "27  22947       중랑소방서            삼성서울병원  37.4891  127.087632   259\n",
       "28  23193       관악소방서        에이치플러스양지병원  37.4844  126.932457   250\n",
       "29  22933       마포소방서     가톨릭대학교 은평성모병원   37.634  126.916538   248\n",
       "30  22888       양천소방서            강남성심병원  37.4929  126.908780   246\n",
       "31  22894       중랑소방서          남산생활치료센터  37.5586  126.991036   241\n",
       "32  22182       강서소방서    가톨릭대학교 여의도성모병원  37.5179  126.935526   219\n",
       "33  23202       노원소방서    가톨릭대학교 의정부성모병원  37.7588  127.077725   196\n",
       "34  22832       관악소방서            신길성애병원  37.5121  126.922318   195\n",
       "35  23188       도봉소방서         코이카생활치료센터  37.4156  127.099787   185\n",
       "36  22887       양천소방서   분당 국제교육원 생활치료센터  37.3675  127.105159   175\n",
       "37  22904       송파소방서            강동성심병원  37.5363  127.135402   175\n",
       "38  23102      동대문소방서          안산생활치료센터  37.3203  126.797866   169\n",
       "39  22895       중부소방서          강남세브란스병원  37.4929  127.046326   168\n",
       "40  23176       마포소방서              북부병원  37.6044  127.107892   163\n",
       "41  23141      서대문소방서          한전생활치료센터  37.6337  127.085049   150\n",
       "42  23115       강동소방서              동부병원  37.5755  127.031499   147\n",
       "43  23123       마포소방서        용인SK생활치료센터  37.2051  127.306223   133\n",
       "44  23094       성북소방서            중앙보훈병원  37.5308  127.148054   132\n",
       "45  22452       광진소방서           한양대구리병원  37.6014  127.132392   128\n",
       "46  22950       중랑소방서        용인삼성생활치료센터  37.3067  127.190676   122\n",
       "47  23159       관악소방서          관악생활치료센터  37.4813  126.912799   108\n",
       "48  22615       중랑소방서              녹색병원  37.3364  126.748981   103\n",
       "49  23111       도봉소방서  분당 새마을연수원 생활치료센터  37.3903  127.156273    97"
      ]
     },
     "execution_count": 27,
     "metadata": {},
     "output_type": "execute_result"
    }
   ],
   "source": [
    "df2_hos_use = df2_hos_counts.head(50)\n",
    "df2_hos_use = df2_hos_use.reset_index()\n",
    "df2_hos_use"
   ]
  },
  {
   "cell_type": "code",
   "execution_count": 28,
   "metadata": {},
   "outputs": [
    {
     "data": {
      "text/plain": [
       "<matplotlib.axes._subplots.AxesSubplot at 0x1de355fd0a0>"
      ]
     },
     "execution_count": 28,
     "metadata": {},
     "output_type": "execute_result"
    },
    {
     "data": {
      "image/png": "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\n",
      "text/plain": [
       "<Figure size 432x288 with 1 Axes>"
      ]
     },
     "metadata": {
      "image/png": {
       "height": 268,
       "width": 401
      }
     },
     "output_type": "display_data"
    }
   ],
   "source": [
    "sns.scatterplot(data=df2_hos_use, x=\"좌표계(X)\", y=\"좌표계(Y)\", hue=\"이송건수\")"
   ]
  },
  {
   "cell_type": "code",
   "execution_count": 29,
   "metadata": {
    "scrolled": true
   },
   "outputs": [
    {
     "name": "stdout",
     "output_type": "stream",
     "text": [
      "<class 'pandas.core.frame.DataFrame'>\n",
      "RangeIndex: 50 entries, 0 to 49\n",
      "Data columns (total 6 columns):\n",
      " #   Column       Non-Null Count  Dtype  \n",
      "---  ------       --------------  -----  \n",
      " 0   index        50 non-null     int64  \n",
      " 1   코로나이송_출동소방서  50 non-null     object \n",
      " 2   이송병원         50 non-null     object \n",
      " 3   좌표계(X)       50 non-null     object \n",
      " 4   좌표계(Y)       50 non-null     float64\n",
      " 5   이송건수         50 non-null     int64  \n",
      "dtypes: float64(1), int64(2), object(3)\n",
      "memory usage: 2.5+ KB\n"
     ]
    }
   ],
   "source": [
    "df2_hos_use.info()"
   ]
  },
  {
   "cell_type": "code",
   "execution_count": 30,
   "metadata": {},
   "outputs": [],
   "source": [
    "df2_rcm = [[37.561654805552195, 126.91267596511383],[37.612752945471804, 127.05343436990721],[37.458774493109736, 127.1100784824342]]"
   ]
  },
  {
   "cell_type": "code",
   "execution_count": 31,
   "metadata": {},
   "outputs": [],
   "source": [
    "def style_function(feature):\n",
    "    return {'opacity':0.7, 'weight':1, 'color':'Black', 'fillOpacity':0}\n",
    "\n",
    "def main():\n",
    "    with open('seoul_municipalities_geo.json', encoding='utf-8') as f:\n",
    "        geojson_data = json.load(f)\n",
    "        m1=folium.Map(location=[37.563, 126.982], tiles='CartoDB positron', zoom_start=10)\n",
    "        m2=folium.Map(location=[37.563, 126.982], tiles='CartoDB positron', zoom_start=10)\n",
    "\n",
    "        folium.GeoJson(\n",
    "            geojson_data, \n",
    "            style_function=style_function\n",
    "            ).add_to(m1)\n",
    "    \n",
    "        folium.GeoJson(\n",
    "            geojson_data, \n",
    "            style_function=style_function\n",
    "            ).add_to(m2)\n",
    "        for j in df2_rcm:\n",
    "            location=j\n",
    "            folium.Marker(\n",
    "                geo_data=geojson_data,\n",
    "                location=location,\n",
    "                key_on='feature.properties.SIG_KOR_NM',\n",
    "                icon=folium.Icon(color='red',icon='circle'),\n",
    "                tooltip=folium.Tooltip(''),\n",
    "                ).add_to(m1)\n",
    "            \n",
    "        for i in df2_hos_use.index:\n",
    "            popup=df2_hos_use.loc[i, '이송병원']+str(df2_hos_use.loc[i,'이송건수'])\n",
    "            location=[df2_hos_use.loc[i, '좌표계(X)'], df2_hos_use.loc[i, '좌표계(Y)']]\n",
    "\n",
    "            folium.Marker(\n",
    "                geo_data=geojson_data,\n",
    "                location=location,\n",
    "                key_on='feature.properties.SIG_KOR_NM',\n",
    "                tooltip=folium.Tooltip(popup),\n",
    "                ).add_to(m1)\n",
    "            \n",
    "            if i<20:\n",
    "                folium.CircleMarker(\n",
    "                    geo_data=geojson_data,\n",
    "                    location=location,\n",
    "                    key_on='feature.properties.SIG_KOR_NM',\n",
    "                    popup=folium.Popup(popup,parse_html=True,max_width='50%',show=True,sticky=True,),\n",
    "                    radius=int(df2_hos_use.loc[i, '이송건수']//40),\n",
    "                    color='#006400',\n",
    "                    fill_color='#006400',\n",
    "                    ).add_to(m2)\n",
    "            else:\n",
    "                folium.CircleMarker(\n",
    "                    geo_data=geojson_data,\n",
    "                    location=location,\n",
    "                    key_on='feature.properties.SIG_KOR_NM',\n",
    "                    popup=folium.Popup(popup),\n",
    "                    radius=int(df2_hos_use.loc[i, '이송건수']//30),\n",
    "                    color='#00FF7F',\n",
    "                    fill_color='#00FF7F',\n",
    "                    ).add_to(m2)\n",
    "    \n",
    "        m1.save(outfile=\"hosmark.html\")\n",
    "        m2.save(outfile=\"hoscircle.html\")\n",
    "        \n",
    "if __name__ == \"__main__\":\n",
    "    main()"
   ]
  },
  {
   "cell_type": "code",
   "execution_count": 32,
   "metadata": {
    "scrolled": false
   },
   "outputs": [
    {
     "data": {
      "text/html": [
       "\n",
       "        <iframe\n",
       "            width=\"700\"\n",
       "            height=\"600\"\n",
       "            src=\"hoscircle.html\"\n",
       "            frameborder=\"0\"\n",
       "            allowfullscreen\n",
       "        ></iframe>\n",
       "        "
      ],
      "text/plain": [
       "<IPython.lib.display.IFrame at 0x1de35954940>"
      ]
     },
     "execution_count": 32,
     "metadata": {},
     "output_type": "execute_result"
    }
   ],
   "source": [
    "from IPython.display import IFrame\n",
    "\n",
    "IFrame(src='hoscircle.html', width=700, height=600)"
   ]
  },
  {
   "cell_type": "code",
   "execution_count": null,
   "metadata": {
    "scrolled": true
   },
   "outputs": [],
   "source": [
    "df3_raw = pd.read_excel(\"직원격리현황.xlsx\")\n",
    "df3_raw"
   ]
  },
  {
   "cell_type": "code",
   "execution_count": 49,
   "metadata": {},
   "outputs": [
    {
     "name": "stdout",
     "output_type": "stream",
     "text": [
      "<class 'pandas.core.frame.DataFrame'>\n",
      "RangeIndex: 2799 entries, 0 to 2798\n",
      "Data columns (total 17 columns):\n",
      " #   Column     Non-Null Count  Dtype         \n",
      "---  ------     --------------  -----         \n",
      " 0   연번         2799 non-null   int64         \n",
      " 1   기관구분       2799 non-null   object        \n",
      " 2   실국명        2799 non-null   object        \n",
      " 3   부서명        2799 non-null   object        \n",
      " 4   직급         2799 non-null   object        \n",
      " 5   성명         2799 non-null   object        \n",
      " 6   휴가구분       2799 non-null   object        \n",
      " 7   시작일        2799 non-null   datetime64[ns]\n",
      " 8   종료일        2790 non-null   datetime64[ns]\n",
      " 9   사유         2799 non-null   object        \n",
      " 10  상세 사유(작성)  2799 non-null   object        \n",
      " 11  현상태        2799 non-null   object        \n",
      " 12  검사여부       1218 non-null   object        \n",
      " 13  담당직무       2799 non-null   object        \n",
      " 14  비고         658 non-null    object        \n",
      " 15  관찰실        1100 non-null   object        \n",
      " 16  확진여부       18 non-null     object        \n",
      "dtypes: datetime64[ns](2), int64(1), object(14)\n",
      "memory usage: 371.9+ KB\n"
     ]
    }
   ],
   "source": [
    "df3_raw.info()"
   ]
  },
  {
   "cell_type": "code",
   "execution_count": 50,
   "metadata": {},
   "outputs": [
    {
     "name": "stdout",
     "output_type": "stream",
     "text": [
      "<class 'pandas.core.frame.DataFrame'>\n",
      "RangeIndex: 2799 entries, 0 to 2798\n",
      "Data columns (total 17 columns):\n",
      " #   Column     Non-Null Count  Dtype         \n",
      "---  ------     --------------  -----         \n",
      " 0   연번         2799 non-null   int64         \n",
      " 1   기관구분       2799 non-null   object        \n",
      " 2   실국명        2799 non-null   object        \n",
      " 3   부서명        2799 non-null   object        \n",
      " 4   직급         2799 non-null   object        \n",
      " 5   성명         2799 non-null   object        \n",
      " 6   휴가구분       2799 non-null   object        \n",
      " 7   시작일        2799 non-null   datetime64[ns]\n",
      " 8   종료일        2790 non-null   datetime64[ns]\n",
      " 9   사유         2799 non-null   object        \n",
      " 10  상세 사유(작성)  2799 non-null   object        \n",
      " 11  현상태        2799 non-null   object        \n",
      " 12  검사여부       1218 non-null   object        \n",
      " 13  담당직무       2799 non-null   object        \n",
      " 14  비고         658 non-null    object        \n",
      " 15  관찰실        1100 non-null   object        \n",
      " 16  확진여부       18 non-null     object        \n",
      "dtypes: datetime64[ns](2), int64(1), object(14)\n",
      "memory usage: 371.9+ KB\n"
     ]
    }
   ],
   "source": [
    "df3_raw[\"종료일\"]=df3_raw[\"종료일\"].astype(\"datetime64[ns]\")\n",
    "df3_raw.info()"
   ]
  },
  {
   "cell_type": "code",
   "execution_count": null,
   "metadata": {
    "scrolled": true
   },
   "outputs": [],
   "source": [
    "df3_raw"
   ]
  },
  {
   "cell_type": "code",
   "execution_count": 52,
   "metadata": {},
   "outputs": [
    {
     "data": {
      "text/plain": [
       "array(['4. 의사환자 접촉자 :공가', '6. 거소를 같이하는 가족 중 격리자가 있는 경우 : 공가 ',\n",
       "       '7. 무증상자이나 감염 위험이 있는 경우(대구, 경북 방문자 등) : 공가',\n",
       "       '5. 발열 또는 호흡기 증상자(별로 감염 경로없는 유증상자) : 공가',\n",
       "       '2. 의사 환자(신종 코로나19 국가, 지역 방문과 확진환자 접촉 후 14일 내 발열 또는 호흡기 증상자 등) : 공가 또는 병가(발생 시 문의)',\n",
       "       '3. 확진환자 접촉자 : 공가', '8. 중국 등 여행력이 있는 경우 : 공가',\n",
       "       '1. 확진환자(검사기준에 따라 감염병 병원체 감염이 확인된 자)인 경우 : 병가',\n",
       "       '0.기타 : 감염의 위험이 있다고 판단 : 자택근무', '0.기타 : 감염의 위험이 있다고 판단 : 공가'],\n",
       "      dtype=object)"
      ]
     },
     "execution_count": 52,
     "metadata": {},
     "output_type": "execute_result"
    }
   ],
   "source": [
    "df3_raw[\"사유\"].unique()"
   ]
  },
  {
   "cell_type": "code",
   "execution_count": 53,
   "metadata": {},
   "outputs": [
    {
     "data": {
      "text/html": [
       "<div>\n",
       "<style scoped>\n",
       "    .dataframe tbody tr th:only-of-type {\n",
       "        vertical-align: middle;\n",
       "    }\n",
       "\n",
       "    .dataframe tbody tr th {\n",
       "        vertical-align: top;\n",
       "    }\n",
       "\n",
       "    .dataframe thead th {\n",
       "        text-align: right;\n",
       "    }\n",
       "</style>\n",
       "<table border=\"1\" class=\"dataframe\">\n",
       "  <thead>\n",
       "    <tr style=\"text-align: right;\">\n",
       "      <th></th>\n",
       "      <th>사유</th>\n",
       "      <th>건수</th>\n",
       "    </tr>\n",
       "  </thead>\n",
       "  <tbody>\n",
       "    <tr>\n",
       "      <th>8</th>\n",
       "      <td>0.기타 : 감염의 위험이 있다고 판단 : 공가</td>\n",
       "      <td>2</td>\n",
       "    </tr>\n",
       "    <tr>\n",
       "      <th>9</th>\n",
       "      <td>0.기타 : 감염의 위험이 있다고 판단 : 자택근무</td>\n",
       "      <td>1</td>\n",
       "    </tr>\n",
       "    <tr>\n",
       "      <th>5</th>\n",
       "      <td>1. 확진환자(검사기준에 따라 감염병 병원체 감염이 확인된 자)인 경우 : 병가</td>\n",
       "      <td>11</td>\n",
       "    </tr>\n",
       "    <tr>\n",
       "      <th>6</th>\n",
       "      <td>2. 의사 환자(신종 코로나19 국가, 지역 방문과 확진환자 접촉 후 14일 내 발...</td>\n",
       "      <td>6</td>\n",
       "    </tr>\n",
       "    <tr>\n",
       "      <th>1</th>\n",
       "      <td>3. 확진환자 접촉자 : 공가</td>\n",
       "      <td>557</td>\n",
       "    </tr>\n",
       "    <tr>\n",
       "      <th>0</th>\n",
       "      <td>4. 의사환자 접촉자 :공가</td>\n",
       "      <td>1336</td>\n",
       "    </tr>\n",
       "    <tr>\n",
       "      <th>4</th>\n",
       "      <td>5. 발열 또는 호흡기 증상자(별로 감염 경로없는 유증상자) : 공가</td>\n",
       "      <td>232</td>\n",
       "    </tr>\n",
       "    <tr>\n",
       "      <th>3</th>\n",
       "      <td>6. 거소를 같이하는 가족 중 격리자가 있는 경우 : 공가</td>\n",
       "      <td>283</td>\n",
       "    </tr>\n",
       "    <tr>\n",
       "      <th>2</th>\n",
       "      <td>7. 무증상자이나 감염 위험이 있는 경우(대구, 경북 방문자 등) : 공가</td>\n",
       "      <td>367</td>\n",
       "    </tr>\n",
       "    <tr>\n",
       "      <th>7</th>\n",
       "      <td>8. 중국 등 여행력이 있는 경우 : 공가</td>\n",
       "      <td>4</td>\n",
       "    </tr>\n",
       "  </tbody>\n",
       "</table>\n",
       "</div>"
      ],
      "text/plain": [
       "                                                  사유    건수\n",
       "8                         0.기타 : 감염의 위험이 있다고 판단 : 공가     2\n",
       "9                       0.기타 : 감염의 위험이 있다고 판단 : 자택근무     1\n",
       "5       1. 확진환자(검사기준에 따라 감염병 병원체 감염이 확인된 자)인 경우 : 병가    11\n",
       "6  2. 의사 환자(신종 코로나19 국가, 지역 방문과 확진환자 접촉 후 14일 내 발...     6\n",
       "1                                   3. 확진환자 접촉자 : 공가   557\n",
       "0                                    4. 의사환자 접촉자 :공가  1336\n",
       "4             5. 발열 또는 호흡기 증상자(별로 감염 경로없는 유증상자) : 공가   232\n",
       "3                  6. 거소를 같이하는 가족 중 격리자가 있는 경우 : 공가    283\n",
       "2          7. 무증상자이나 감염 위험이 있는 경우(대구, 경북 방문자 등) : 공가   367\n",
       "7                            8. 중국 등 여행력이 있는 경우 : 공가     4"
      ]
     },
     "execution_count": 53,
     "metadata": {},
     "output_type": "execute_result"
    }
   ],
   "source": [
    "df3_reason = df3_raw[\"사유\"].value_counts().rename_axis(\"사유\").reset_index(name=\"건수\")\n",
    "df3_reason = df3_reason.sort_values(by=\"사유\")\n",
    "df3_reason"
   ]
  },
  {
   "cell_type": "code",
   "execution_count": 61,
   "metadata": {
    "scrolled": false
   },
   "outputs": [
    {
     "data": {
      "text/plain": [
       "<matplotlib.axes._subplots.AxesSubplot at 0x1de348f0040>"
      ]
     },
     "execution_count": 61,
     "metadata": {},
     "output_type": "execute_result"
    },
    {
     "data": {
      "image/png": "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\n",
      "text/plain": [
       "<Figure size 864x720 with 1 Axes>"
      ]
     },
     "metadata": {
      "image/png": {
       "height": 595,
       "width": 1374
      }
     },
     "output_type": "display_data"
    }
   ],
   "source": [
    "plt.figure(figsize=(12,10))\n",
    "sns.barplot(data=df3_reason, y=\"사유\", x=\"건수\")"
   ]
  },
  {
   "cell_type": "code",
   "execution_count": 56,
   "metadata": {
    "scrolled": true
   },
   "outputs": [
    {
     "data": {
      "text/plain": [
       "관악소방서         186\n",
       "강동소방서         181\n",
       "구로소방서         163\n",
       "노원소방서         147\n",
       "은평소방서         132\n",
       "도봉소방서         129\n",
       "마포소방서         129\n",
       "동대문소방서        128\n",
       "성북소방서         127\n",
       "영등포소방서        123\n",
       "강서소방서         115\n",
       "종로소방서         113\n",
       "강남소방서         110\n",
       "서대문소방서        103\n",
       "서초소방서          97\n",
       "용산소방서          93\n",
       "강북소방서          89\n",
       "양천소방서          86\n",
       "중랑소방서          83\n",
       "광진소방서          82\n",
       "송파소방서          81\n",
       "동작소방서          79\n",
       "중부소방서          76\n",
       "특수구조단          58\n",
       "성동소방서          41\n",
       "종합방재센터         27\n",
       "본부 안전지원과        7\n",
       "본부 현장대응단        4\n",
       "본부 소방행정과        4\n",
       "본부 예방과          3\n",
       "본부 소방감사담당관      2\n",
       "소방학교            1\n",
       "Name: 부서명, dtype: int64"
      ]
     },
     "execution_count": 56,
     "metadata": {},
     "output_type": "execute_result"
    }
   ],
   "source": [
    "df3_raw[\"부서명\"].value_counts()"
   ]
  },
  {
   "cell_type": "code",
   "execution_count": 57,
   "metadata": {
    "scrolled": false
   },
   "outputs": [],
      "text/plain": [],
     "execution_count": 57,
     "metadata": {},
     "output_type": "execute_result"
    }
   ],
   "source": [
    "df3_raw[\"격리기간\"]=(df3_raw[\"종료일\"]-df3_raw[\"시작일\"])+datetime.timedelta(days=1)\n",
    "df3_raw"
   ]
  },
  {
   "cell_type": "code",
   "execution_count": 42,
   "metadata": {},
   "outputs": [
    {
     "data": {
      "text/plain": [
       "count                      2790\n",
       "mean     3 days 14:19:21.290322\n",
       "std      4 days 05:26:11.875827\n",
       "min             1 days 00:00:00\n",
       "25%             1 days 00:00:00\n",
       "50%             2 days 00:00:00\n",
       "75%             4 days 00:00:00\n",
       "max            49 days 00:00:00\n",
       "Name: 격리기간, dtype: object"
      ]
     },
     "execution_count": 42,
     "metadata": {},
     "output_type": "execute_result"
    }
   ],
   "source": [
    "df3_raw[\"격리기간\"].describe()"
   ]
  },
  {
   "cell_type": "code",
   "execution_count": null,
   "metadata": {
    "scrolled": false
   },
   "outputs": [],
   "source": [
    "df3_raw.loc[df3_raw[\"격리기간\"].idxmin()]"
   ]
  },
  {
   "cell_type": "code",
   "execution_count": null,
   "metadata": {
    "scrolled": true
   },
   "outputs": [],
   "source": [
    "df3_raw.loc[df3_raw[\"격리기간\"].idxmax()]"
   ]
  },
  {
   "cell_type": "code",
   "execution_count": 45,
   "metadata": {},
   "outputs": [
    {
     "data": {
      "text/html": [
       "<div>\n",
       "<style scoped>\n",
       "    .dataframe tbody tr th:only-of-type {\n",
       "        vertical-align: middle;\n",
       "    }\n",
       "\n",
       "    .dataframe tbody tr th {\n",
       "        vertical-align: top;\n",
       "    }\n",
       "\n",
       "    .dataframe thead th {\n",
       "        text-align: right;\n",
       "    }\n",
       "</style>\n",
       "<table border=\"1\" class=\"dataframe\">\n",
       "  <thead>\n",
       "    <tr style=\"text-align: right;\">\n",
       "      <th></th>\n",
       "      <th>소방서</th>\n",
       "      <th>격리건수</th>\n",
       "    </tr>\n",
       "  </thead>\n",
       "  <tbody>\n",
       "    <tr>\n",
       "      <th>0</th>\n",
       "      <td>관악구</td>\n",
       "      <td>186</td>\n",
       "    </tr>\n",
       "    <tr>\n",
       "      <th>1</th>\n",
       "      <td>강동구</td>\n",
       "      <td>181</td>\n",
       "    </tr>\n",
       "    <tr>\n",
       "      <th>2</th>\n",
       "      <td>구로구</td>\n",
       "      <td>163</td>\n",
       "    </tr>\n",
       "    <tr>\n",
       "      <th>3</th>\n",
       "      <td>금천구</td>\n",
       "      <td>163</td>\n",
       "    </tr>\n",
       "    <tr>\n",
       "      <th>4</th>\n",
       "      <td>노원구</td>\n",
       "      <td>147</td>\n",
       "    </tr>\n",
       "    <tr>\n",
       "      <th>5</th>\n",
       "      <td>은평구</td>\n",
       "      <td>132</td>\n",
       "    </tr>\n",
       "    <tr>\n",
       "      <th>6</th>\n",
       "      <td>도봉구</td>\n",
       "      <td>129</td>\n",
       "    </tr>\n",
       "    <tr>\n",
       "      <th>7</th>\n",
       "      <td>마포구</td>\n",
       "      <td>129</td>\n",
       "    </tr>\n",
       "    <tr>\n",
       "      <th>8</th>\n",
       "      <td>동대문구</td>\n",
       "      <td>128</td>\n",
       "    </tr>\n",
       "    <tr>\n",
       "      <th>9</th>\n",
       "      <td>성북구</td>\n",
       "      <td>127</td>\n",
       "    </tr>\n",
       "    <tr>\n",
       "      <th>10</th>\n",
       "      <td>영등포구</td>\n",
       "      <td>123</td>\n",
       "    </tr>\n",
       "    <tr>\n",
       "      <th>11</th>\n",
       "      <td>강서구</td>\n",
       "      <td>115</td>\n",
       "    </tr>\n",
       "    <tr>\n",
       "      <th>12</th>\n",
       "      <td>종로구</td>\n",
       "      <td>113</td>\n",
       "    </tr>\n",
       "    <tr>\n",
       "      <th>13</th>\n",
       "      <td>강남구</td>\n",
       "      <td>110</td>\n",
       "    </tr>\n",
       "    <tr>\n",
       "      <th>14</th>\n",
       "      <td>서대문구</td>\n",
       "      <td>103</td>\n",
       "    </tr>\n",
       "    <tr>\n",
       "      <th>15</th>\n",
       "      <td>서초구</td>\n",
       "      <td>97</td>\n",
       "    </tr>\n",
       "    <tr>\n",
       "      <th>16</th>\n",
       "      <td>용산구</td>\n",
       "      <td>93</td>\n",
       "    </tr>\n",
       "    <tr>\n",
       "      <th>17</th>\n",
       "      <td>강북구</td>\n",
       "      <td>89</td>\n",
       "    </tr>\n",
       "    <tr>\n",
       "      <th>18</th>\n",
       "      <td>양천구</td>\n",
       "      <td>86</td>\n",
       "    </tr>\n",
       "    <tr>\n",
       "      <th>19</th>\n",
       "      <td>중랑구</td>\n",
       "      <td>83</td>\n",
       "    </tr>\n",
       "    <tr>\n",
       "      <th>20</th>\n",
       "      <td>광진구</td>\n",
       "      <td>82</td>\n",
       "    </tr>\n",
       "    <tr>\n",
       "      <th>21</th>\n",
       "      <td>송파구</td>\n",
       "      <td>81</td>\n",
       "    </tr>\n",
       "    <tr>\n",
       "      <th>22</th>\n",
       "      <td>동작구</td>\n",
       "      <td>79</td>\n",
       "    </tr>\n",
       "    <tr>\n",
       "      <th>23</th>\n",
       "      <td>중구</td>\n",
       "      <td>76</td>\n",
       "    </tr>\n",
       "    <tr>\n",
       "      <th>24</th>\n",
       "      <td>성동구</td>\n",
       "      <td>41</td>\n",
       "    </tr>\n",
       "  </tbody>\n",
       "</table>\n",
       "</div>"
      ],
      "text/plain": [
       "     소방서  격리건수\n",
       "0    관악구   186\n",
       "1    강동구   181\n",
       "2    구로구   163\n",
       "3    금천구   163\n",
       "4    노원구   147\n",
       "5    은평구   132\n",
       "6    도봉구   129\n",
       "7    마포구   129\n",
       "8   동대문구   128\n",
       "9    성북구   127\n",
       "10  영등포구   123\n",
       "11   강서구   115\n",
       "12   종로구   113\n",
       "13   강남구   110\n",
       "14  서대문구   103\n",
       "15   서초구    97\n",
       "16   용산구    93\n",
       "17   강북구    89\n",
       "18   양천구    86\n",
       "19   중랑구    83\n",
       "20   광진구    82\n",
       "21   송파구    81\n",
       "22   동작구    79\n",
       "23    중구    76\n",
       "24   성동구    41"
      ]
     },
     "execution_count": 45,
     "metadata": {},
     "output_type": "execute_result"
    }
   ],
   "source": [
    "make_list=[('관악구','186'),('강동구','181'),('구로구','163'),('금천구','163'),('노원구','147'),('은평구','132'),\n",
    "           ('도봉구','129'),('마포구','129'),('동대문구','128'),('성북구','127'),('영등포구','123'),('강서구','115'),\n",
    "           ('종로구','113'),('강남구','110'),('서대문구','103'),('서초구','97'),('용산구','93'),('강북구','89'),\n",
    "           ('양천구','86'),('중랑구','83'),('광진구','82'),('송파구','81'),('동작구','79'),('중구','76'),('성동구','41')]\n",
    "emp_data = pd.DataFrame(make_list, columns=['소방서', '격리건수'])\n",
    "emp_data['격리건수'] = emp_data['격리건수'].astype('int')\n",
    "emp_data"
   ]
  },
  {
   "cell_type": "code",
   "execution_count": 46,
   "metadata": {},
   "outputs": [],
   "source": [
    "def main():\n",
    "    with open('seoul_municipalities_geo.json', encoding='utf-8') as f:\n",
    "        geojson_data = json.load(f)\n",
    "        m=folium.Map(location=[37.563, 126.982], zoom_start=11)\n",
    "        \n",
    "        folium.Choropleth(\n",
    "            geo_data=geojson_data, \n",
    "            data=emp_data,\n",
    "            columns=['소방서', '격리건수'],\n",
    "            key_on='feature.properties.SIG_KOR_NM',\n",
    "            fill_color='BuPu',\n",
    "            reset=True,\n",
    "            highlight=True\n",
    "            ).add_to(m)\n",
    "    \n",
    "        m.save(outfile=\"employee.html\")\n",
    "    \n",
    "if __name__ == \"__main__\":\n",
    "    main()"
   ]
  },
  {
   "cell_type": "code",
   "execution_count": 47,
   "metadata": {},
   "outputs": [
    {
     "data": {
      "text/html": [
       "\n",
       "        <iframe\n",
       "            width=\"700\"\n",
       "            height=\"600\"\n",
       "            src=\"employee.html\"\n",
       "            frameborder=\"0\"\n",
       "            allowfullscreen\n",
       "        ></iframe>\n",
       "        "
      ],
      "text/plain": [
       "<IPython.lib.display.IFrame at 0x1de35436fa0>"
      ]
     },
     "execution_count": 47,
     "metadata": {},
     "output_type": "execute_result"
    }
   ],
   "source": [
    "from IPython.display import IFrame\n",
    "\n",
    "IFrame(src='employee.html', width=700, height=600)"
   ]
  },
  {
   "cell_type": "code",
   "execution_count": null,
   "metadata": {},
   "outputs": [],
   "source": []
  }
 ],
 "metadata": {
  "kernelspec": {
   "display_name": "Python 3",
   "language": "python",
   "name": "python3"
  },
  "language_info": {
   "codemirror_mode": {
    "name": "ipython",
    "version": 3
   },
   "file_extension": ".py",
   "mimetype": "text/x-python",
   "name": "python",
   "nbconvert_exporter": "python",
   "pygments_lexer": "ipython3",
   "version": "3.8.3"
  },
  "varInspector": {
   "cols": {
    "lenName": 16,
    "lenType": 16,
    "lenVar": 40
   },
   "kernels_config": {
    "python": {
     "delete_cmd_postfix": "",
     "delete_cmd_prefix": "del ",
     "library": "var_list.py",
     "varRefreshCmd": "print(var_dic_list())"
    },
    "r": {
     "delete_cmd_postfix": ") ",
     "delete_cmd_prefix": "rm(",
     "library": "var_list.r",
     "varRefreshCmd": "cat(var_dic_list()) "
    }
   },
   "types_to_exclude": [
    "module",
    "function",
    "builtin_function_or_method",
    "instance",
    "_Feature"
   ],
   "window_display": false
  }
 },
 "nbformat": 4,
 "nbformat_minor": 4
}
